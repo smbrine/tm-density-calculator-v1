{
 "cells": [
  {
   "cell_type": "code",
   "id": "initial_id",
   "metadata": {
    "collapsed": true,
    "ExecuteTime": {
     "end_time": "2024-06-06T12:30:57.807229Z",
     "start_time": "2024-06-06T12:30:57.645379Z"
    }
   },
   "source": [
    "import overpass\n",
    "api = overpass.API()"
   ],
   "outputs": [],
   "execution_count": 1
  },
  {
   "metadata": {
    "ExecuteTime": {
     "end_time": "2024-06-06T12:30:57.838626Z",
     "start_time": "2024-06-06T12:30:57.818679Z"
    }
   },
   "cell_type": "code",
   "source": [
    "latitude = 55.8962\n",
    "longitude = 37.3992"
   ],
   "id": "4d6a48d2857b5a31",
   "outputs": [],
   "execution_count": 2
  },
  {
   "metadata": {
    "ExecuteTime": {
     "end_time": "2024-06-06T12:30:58.713415Z",
     "start_time": "2024-06-06T12:30:57.845497Z"
    }
   },
   "cell_type": "code",
   "source": [
    "raw_data = api.get(\n",
    "    f'way[landuse=\"residential\"]({latitude - .001},{longitude - .001},{latitude + .001},{longitude + .001});',\n",
    "    verbosity='geom'\n",
    ")"
   ],
   "id": "ec954e5e2331f33b",
   "outputs": [],
   "execution_count": 3
  },
  {
   "metadata": {
    "ExecuteTime": {
     "end_time": "2024-06-06T12:31:12.242091Z",
     "start_time": "2024-06-06T12:31:12.239446Z"
    }
   },
   "cell_type": "code",
   "source": "features = raw_data['features']",
   "id": "6bcb87a16acc3322",
   "outputs": [],
   "execution_count": 6
  },
  {
   "metadata": {
    "ExecuteTime": {
     "end_time": "2024-06-06T12:31:29.567312Z",
     "start_time": "2024-06-06T12:31:29.562928Z"
    }
   },
   "cell_type": "code",
   "source": "features",
   "id": "37fdb5a44d1b9364",
   "outputs": [
    {
     "data": {
      "text/plain": [
       "[{\"geometry\": {\"coordinates\": [[37.397803, 55.896186], [37.398473, 55.89495], [37.398941, 55.894039], [37.398989, 55.893996], [37.399072, 55.893971], [37.399174, 55.893939], [37.400376, 55.893996], [37.401633, 55.894037], [37.401738, 55.894056], [37.40181, 55.894096], [37.40184, 55.894141], [37.40184, 55.894194], [37.401806, 55.894263], [37.401785, 55.894293], [37.401632, 55.894524], [37.400503, 55.896382], [37.400463, 55.896457], [37.399484, 55.898106], [37.399456, 55.898133], [37.399424, 55.898153], [37.399367, 55.898174], [37.399299, 55.898188], [37.399268, 55.898188], [37.39921, 55.898189], [37.396982, 55.898146], [37.396934, 55.898141], [37.396878, 55.898122], [37.396839, 55.898096], [37.396819, 55.898068], [37.39682, 55.898038], [37.397803, 55.896186]], \"type\": \"LineString\"}, \"id\": 134225763, \"properties\": {\"landuse\": \"residential\", \"residential\": \"urban\"}, \"type\": \"Feature\"}]"
      ]
     },
     "execution_count": 10,
     "metadata": {},
     "output_type": "execute_result"
    }
   ],
   "execution_count": 10
  },
  {
   "metadata": {
    "ExecuteTime": {
     "end_time": "2024-06-06T12:42:24.158476Z",
     "start_time": "2024-06-06T12:42:24.154828Z"
    }
   },
   "cell_type": "code",
   "source": [
    "max_lat, min_lat, max_lon, min_lon = 0, 0, 0, 0\n",
    "for pair in features[0]['geometry']['coordinates']:\n",
    "    lat, lon = pair\n",
    "    max_lat = max(lat, max_lat or lat)\n",
    "    max_lon = max(lon, max_lon or lon)        \n",
    "    min_lat = min(lat, min_lat or lat)\n",
    "    min_lon = min(lon, min_lon or lon)"
   ],
   "id": "effaa5bb4669c458",
   "outputs": [
    {
     "name": "stdout",
     "output_type": "stream",
     "text": [
      "[37.397803, 55.896186]\n",
      "[37.398473, 55.89495]\n",
      "[37.398941, 55.894039]\n",
      "[37.398989, 55.893996]\n",
      "[37.399072, 55.893971]\n",
      "[37.399174, 55.893939]\n",
      "[37.400376, 55.893996]\n",
      "[37.401633, 55.894037]\n",
      "[37.401738, 55.894056]\n",
      "[37.40181, 55.894096]\n",
      "[37.40184, 55.894141]\n",
      "[37.40184, 55.894194]\n",
      "[37.401806, 55.894263]\n",
      "[37.401785, 55.894293]\n",
      "[37.401632, 55.894524]\n",
      "[37.400503, 55.896382]\n",
      "[37.400463, 55.896457]\n",
      "[37.399484, 55.898106]\n",
      "[37.399456, 55.898133]\n",
      "[37.399424, 55.898153]\n",
      "[37.399367, 55.898174]\n",
      "[37.399299, 55.898188]\n",
      "[37.399268, 55.898188]\n",
      "[37.39921, 55.898189]\n",
      "[37.396982, 55.898146]\n",
      "[37.396934, 55.898141]\n",
      "[37.396878, 55.898122]\n",
      "[37.396839, 55.898096]\n",
      "[37.396819, 55.898068]\n",
      "[37.39682, 55.898038]\n",
      "[37.397803, 55.896186]\n"
     ]
    }
   ],
   "execution_count": 35
  },
  {
   "metadata": {
    "ExecuteTime": {
     "end_time": "2024-06-06T12:42:27.788832Z",
     "start_time": "2024-06-06T12:42:27.783057Z"
    }
   },
   "cell_type": "code",
   "source": " max_lon, max_lat,  min_lon, min_lat,",
   "id": "7581059c58775fca",
   "outputs": [
    {
     "data": {
      "text/plain": [
       "(55.898189, 37.40184, 55.893939, 37.396819)"
      ]
     },
     "execution_count": 36,
     "metadata": {},
     "output_type": "execute_result"
    }
   ],
   "execution_count": 36
  },
  {
   "metadata": {
    "ExecuteTime": {
     "end_time": "2024-06-06T12:54:57.175660Z",
     "start_time": "2024-06-06T12:54:57.172408Z"
    }
   },
   "cell_type": "code",
   "source": [
    "from shapely.geometry import Polygon\n",
    "from pyproj import Proj, transform, Transformer\n",
    "from geopy.distance import geodesic"
   ],
   "id": "72f5f1833d43a2e3",
   "outputs": [],
   "execution_count": 47
  },
  {
   "metadata": {
    "ExecuteTime": {
     "end_time": "2024-06-06T13:00:38.028957Z",
     "start_time": "2024-06-06T13:00:38.024351Z"
    }
   },
   "cell_type": "code",
   "source": [
    "def geodesic_area(coordinates):\n",
    "    if len(coordinates) < 3:\n",
    "        return 0 \n",
    "\n",
    "    tranformer = Transformer.from_crs(\"EPSG:4326\", 'EPSG:3857')\n",
    "    \n",
    "    # Project the coordinates to UTM\n",
    "    utm_coords = [tranformer.transform(lon, lat) for lat, lon in coordinates]\n",
    "\n",
    "    # Create a polygon with shapely\n",
    "    poly = Polygon(utm_coords)\n",
    "\n",
    "    # Calculate the area in square meters\n",
    "    area = poly.area\n",
    "    return area"
   ],
   "id": "a610c770aa09f0d5",
   "outputs": [],
   "execution_count": 53
  },
  {
   "metadata": {
    "ExecuteTime": {
     "end_time": "2024-06-06T13:00:38.535209Z",
     "start_time": "2024-06-06T13:00:38.526567Z"
    }
   },
   "cell_type": "code",
   "source": "geodesic_area(features[0]['geometry']['coordinates'])",
   "id": "194d201298411bae",
   "outputs": [
    {
     "data": {
      "text/plain": [
       "260571.66842714194"
      ]
     },
     "execution_count": 54,
     "metadata": {},
     "output_type": "execute_result"
    }
   ],
   "execution_count": 54
  },
  {
   "metadata": {
    "ExecuteTime": {
     "end_time": "2024-06-06T13:04:22.179407Z",
     "start_time": "2024-06-06T13:04:22.176765Z"
    }
   },
   "cell_type": "code",
   "source": "poly = Polygon(features[0]['geometry']['coordinates'])\n",
   "id": "d7a32856aff82924",
   "outputs": [],
   "execution_count": 55
  },
  {
   "metadata": {
    "ExecuteTime": {
     "end_time": "2024-06-06T13:08:49.095031Z",
     "start_time": "2024-06-06T13:08:49.092631Z"
    }
   },
   "cell_type": "code",
   "source": "min_lat,min_lon,max_lat,max_lon = poly.bounds",
   "id": "bc1023e511dd6072",
   "outputs": [],
   "execution_count": 68
  },
  {
   "metadata": {
    "ExecuteTime": {
     "end_time": "2024-06-06T13:24:17.758939Z",
     "start_time": "2024-06-06T13:24:17.351023Z"
    }
   },
   "cell_type": "code",
   "source": [
    "raw_buildings_data = api.get(\n",
    "    f'way[building=apartments]({min_lon},{min_lat},{max_lon},{max_lat});',\n",
    "    verbosity='geom'\n",
    ")"
   ],
   "id": "9c63a6eadf6ce307",
   "outputs": [],
   "execution_count": 101
  },
  {
   "metadata": {
    "ExecuteTime": {
     "end_time": "2024-06-06T13:24:18.231133Z",
     "start_time": "2024-06-06T13:24:18.225756Z"
    }
   },
   "cell_type": "code",
   "source": "raw_buildings_data",
   "id": "4837a9edb920ae11",
   "outputs": [
    {
     "data": {
      "text/plain": [
       "{\"features\": [{\"geometry\": {\"coordinates\": [[37.395691, 55.89531], [37.395836, 55.895299], [37.396031, 55.895184], [37.3964, 55.895105], [37.396362, 55.895037], [37.396783, 55.894955], [37.396813, 55.895016], [37.397044, 55.895056], [37.397159, 55.894997], [37.397126, 55.894933], [37.397016, 55.89488], [37.396781, 55.894896], [37.396747, 55.894832], [37.396265, 55.894925], [37.396302, 55.894993], [37.395859, 55.895076], [37.395652, 55.895184], [37.395619, 55.895265], [37.395691, 55.89531]], \"type\": \"LineString\"}, \"id\": 37824476, \"properties\": {\"addr:city\": \"Москва\", \"addr:country\": \"RU\", \"addr:housenumber\": \"9 к1\", \"addr:postcode\": \"125466\", \"addr:street\": \"улица Соловьиная Роща\", \"building\": \"apartments\", \"building:flats\": \"94\", \"building:levels\": \"7\", \"start_date\": \"2003\"}, \"type\": \"Feature\"}, {\"geometry\": {\"coordinates\": [[37.397599, 55.895088], [37.3978, 55.895121], [37.397472, 55.895691], [37.397375, 55.89582], [37.397264, 55.895856], [37.397016, 55.895841], [37.396492, 55.895835], [37.396498, 55.895768], [37.396007, 55.895762], [37.395999, 55.895825], [37.395466, 55.895817], [37.395478, 55.895685], [37.39599, 55.895689], [37.395993, 55.89564], [37.396512, 55.895649], [37.396504, 55.895702], [37.397061, 55.895712], [37.397272, 55.895664], [37.397599, 55.895088]], \"type\": \"LineString\"}, \"id\": 37824477, \"properties\": {\"addr:city\": \"Москва\", \"addr:country\": \"RU\", \"addr:housenumber\": \"9\", \"addr:postcode\": \"125466\", \"addr:street\": \"улица Соловьиная Роща\", \"building\": \"apartments\", \"building:flats\": \"140\", \"building:levels\": \"7\", \"start_date\": \"2003\"}, \"type\": \"Feature\"}, {\"geometry\": {\"coordinates\": [[37.396508, 55.897014], [37.396633, 55.896969], [37.396962, 55.896401], [37.396892, 55.896297], [37.396526, 55.896294], [37.396518, 55.896364], [37.39603, 55.896359], [37.396036, 55.896287], [37.395424, 55.896285], [37.395431, 55.896159], [37.396053, 55.896161], [37.396051, 55.896231], [37.396491, 55.896237], [37.3965, 55.89617], [37.39689, 55.896175], [37.396885, 55.896214], [37.397187, 55.896218], [37.397257, 55.89629], [37.397085, 55.896415], [37.397163, 55.896434], [37.396851, 55.896979], [37.396822, 55.89707], [37.396626, 55.897146], [37.396492, 55.897126], [37.396508, 55.897014]], \"type\": \"LineString\"}, \"id\": 37824479, \"properties\": {\"addr:country\": \"RU\", \"addr:housenumber\": \"11\", \"addr:postcode\": \"125466\", \"addr:region\": \"Москва\", \"addr:street\": \"улица Соловьиная Роща\", \"building\": \"apartments\", \"building:flats\": \"156\", \"building:levels\": \"7\", \"start_date\": \"2004\"}, \"type\": \"Feature\"}, {\"geometry\": {\"coordinates\": [[37.398835, 55.894622], [37.399055, 55.894248], [37.399211, 55.894189], [37.399383, 55.894192], [37.399364, 55.894309], [37.399287, 55.894331], [37.399093, 55.894669], [37.398835, 55.894622]], \"type\": \"LineString\"}, \"id\": 176462045, \"properties\": {\"addr:city\": \"Москва\", \"addr:housenumber\": \"12/4\", \"addr:postcode\": \"125466\", \"addr:street\": \"улица Соловьиная Роща\", \"building\": \"apartments\", \"building:flats\": \"36\", \"building:levels\": \"6\", \"start_date\": \"2004\"}, \"type\": \"Feature\"}, {\"geometry\": {\"coordinates\": [[37.400283, 55.89421], [37.40026, 55.894294], [37.399856, 55.894504], [37.39987, 55.894727], [37.400032, 55.894765], [37.400097, 55.894543], [37.400267, 55.89447], [37.40054, 55.894409], [37.400641, 55.894296], [37.400589, 55.894188], [37.400283, 55.89421]], \"type\": \"LineString\"}, \"id\": 222722233, \"properties\": {\"addr:city\": \"Москва\", \"addr:housenumber\": \"2\", \"addr:postcode\": \"125466\", \"addr:street\": \"Родионовская улица\", \"building\": \"apartments\", \"building:flats\": \"101\", \"building:levels\": \"18\", \"start_date\": \"2005\"}, \"type\": \"Feature\"}, {\"geometry\": {\"coordinates\": [[37.39987, 55.894727], [37.399814, 55.894798], [37.399687, 55.894804], [37.399515, 55.894784], [37.399381, 55.894871], [37.399616, 55.895001], [37.399599, 55.895456], [37.399394, 55.895543], [37.399391, 55.895627], [37.399501, 55.895673], [37.399788, 55.895662], [37.399909, 55.895578], [37.399928, 55.895498], [37.399804, 55.895463], [37.399834, 55.89499], [37.39998, 55.894891], [37.400032, 55.894765], [37.39987, 55.894727]], \"type\": \"LineString\"}, \"id\": 222722234, \"properties\": {\"addr:housenumber\": \"2 к1\", \"addr:postcode\": \"125466\", \"addr:region\": \"Москва\", \"addr:street\": \"Родионовская улица\", \"building\": \"apartments\", \"building:flats\": \"133\", \"building:levels\": \"15\", \"start_date\": \"2005\"}, \"type\": \"Feature\"}, {\"geometry\": {\"coordinates\": [[37.397879, 55.896367], [37.397562, 55.896939], [37.397591, 55.896944], [37.39754, 55.897036], [37.397583, 55.897044], [37.397547, 55.897108], [37.397615, 55.89712], [37.397607, 55.897133], [37.397685, 55.897146], [37.397694, 55.897131], [37.397747, 55.89714], [37.39776, 55.897116], [37.397835, 55.897077], [37.397875, 55.897005], [37.397854, 55.896952], [37.397889, 55.896888], [37.39795, 55.896857], [37.39797, 55.896821], [37.397951, 55.896774], [37.398006, 55.896675], [37.39806, 55.896647], [37.398082, 55.896608], [37.398065, 55.896566], [37.398115, 55.896476], [37.398134, 55.896471], [37.398169, 55.896455], [37.398195, 55.896435], [37.398299, 55.896453], [37.398307, 55.896439], [37.398398, 55.896455], [37.398388, 55.896473], [37.398478, 55.896488], [37.39857, 55.896477], [37.398878, 55.896531], [37.398949, 55.896574], [37.399053, 55.896592], [37.399116, 55.896584], [37.399198, 55.896598], [37.399266, 55.896475], [37.398155, 55.896281], [37.398084, 55.896296], [37.39804, 55.896294], [37.397996, 55.896298], [37.397955, 55.896308], [37.397921, 55.896324], [37.397895, 55.896344], [37.397879, 55.896367]], \"type\": \"LineString\"}, \"id\": 310516018, \"properties\": {\"addr:housenumber\": \"16\", \"addr:postcode\": \"125466\", \"addr:street\": \"улица Соловьиная Роща\", \"building\": \"apartments\", \"building:flats\": \"239\", \"building:levels\": \"17\", \"start_date\": \"2014\"}, \"type\": \"Feature\"}, {\"geometry\": {\"coordinates\": [[37.398414, 55.898011], [37.398669, 55.898054], [37.398857, 55.897702], [37.398856, 55.897702], [37.399101, 55.897257], [37.399124, 55.897261], [37.399159, 55.897197], [37.399136, 55.897193], [37.399184, 55.897107], [37.398992, 55.897073], [37.398973, 55.897108], [37.39895, 55.897104], [37.398863, 55.897261], [37.398887, 55.897266], [37.398664, 55.897669], [37.3986, 55.897659], [37.398568, 55.897719], [37.398529, 55.897712], [37.398449, 55.897863], [37.398487, 55.89787], [37.39846, 55.897921], [37.3984, 55.897911], [37.398407, 55.897898], [37.398125, 55.89785], [37.398118, 55.897863], [37.398069, 55.897855], [37.398046, 55.897897], [37.397991, 55.897887], [37.397998, 55.897874], [37.397716, 55.897827], [37.397709, 55.89784], [37.397657, 55.897831], [37.397632, 55.897878], [37.397571, 55.897867], [37.397578, 55.897854], [37.397296, 55.897807], [37.397289, 55.89782], [37.397239, 55.897812], [37.397182, 55.897919], [37.397306, 55.89794], [37.3973, 55.897953], [37.397414, 55.897972], [37.397421, 55.897959], [37.397575, 55.897985], [37.3976, 55.897939], [37.397727, 55.89796], [37.39772, 55.897973], [37.397835, 55.897992], [37.397841, 55.897979], [37.397995, 55.898005], [37.398018, 55.897964], [37.398136, 55.897984], [37.398129, 55.897996], [37.398243, 55.898016], [37.39825, 55.898003], [37.398404, 55.898029], [37.398414, 55.898011]], \"type\": \"LineString\"}, \"id\": 366341940, \"properties\": {\"addr:housenumber\": \"23/15\", \"addr:street\": \"Новокуркинское шоссе\", \"building\": \"apartments\", \"building:flats\": \"282\", \"building:levels\": \"20\", \"start_date\": \"2015\"}, \"type\": \"Feature\"}], \"type\": \"FeatureCollection\"}"
      ]
     },
     "execution_count": 102,
     "metadata": {},
     "output_type": "execute_result"
    }
   ],
   "execution_count": 102
  },
  {
   "metadata": {
    "ExecuteTime": {
     "end_time": "2024-06-06T13:24:18.748137Z",
     "start_time": "2024-06-06T13:24:18.731150Z"
    }
   },
   "cell_type": "code",
   "source": [
    "buildings_area = 0\n",
    "for feature in raw_buildings_data['features']:\n",
    "    area = geodesic_area(feature['geometry']['coordinates'])\n",
    "    buildings_area += area"
   ],
   "id": "4d3286db3db8695d",
   "outputs": [],
   "execution_count": 103
  },
  {
   "metadata": {
    "ExecuteTime": {
     "end_time": "2024-06-06T13:24:19.520241Z",
     "start_time": "2024-06-06T13:24:19.516618Z"
    }
   },
   "cell_type": "code",
   "source": "print(buildings_area)",
   "id": "e08118cf5b429408",
   "outputs": [
    {
     "name": "stdout",
     "output_type": "stream",
     "text": [
      "53125.27399269093\n"
     ]
    }
   ],
   "execution_count": 104
  },
  {
   "metadata": {},
   "cell_type": "code",
   "outputs": [],
   "execution_count": null,
   "source": "",
   "id": "b94cd16d1e520c5f"
  }
 ],
 "metadata": {
  "kernelspec": {
   "display_name": "Python 3",
   "language": "python",
   "name": "python3"
  },
  "language_info": {
   "codemirror_mode": {
    "name": "ipython",
    "version": 2
   },
   "file_extension": ".py",
   "mimetype": "text/x-python",
   "name": "python",
   "nbconvert_exporter": "python",
   "pygments_lexer": "ipython2",
   "version": "2.7.6"
  }
 },
 "nbformat": 4,
 "nbformat_minor": 5
}
